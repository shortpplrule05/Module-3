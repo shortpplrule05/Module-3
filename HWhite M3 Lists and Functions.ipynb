{
 "cells": [
  {
   "cell_type": "code",
   "execution_count": 3,
   "id": "ca7b3b07-eee6-4b83-a2b5-1b9204321083",
   "metadata": {},
   "outputs": [],
   "source": [
    "#7.1\n",
    "years_list = [1987, 1988, 1989, 1990, 1991, 1992] "
   ]
  },
  {
   "cell_type": "code",
   "execution_count": 7,
   "id": "4b09ad5c-f879-4f8f-88e3-bba063212c20",
   "metadata": {},
   "outputs": [
    {
     "data": {
      "text/plain": [
       "1991"
      ]
     },
     "execution_count": 7,
     "metadata": {},
     "output_type": "execute_result"
    }
   ],
   "source": [
    "#7.2\n",
    "years_list[4]"
   ]
  },
  {
   "cell_type": "code",
   "execution_count": 11,
   "id": "0688a72b-268d-452e-958a-fd1538bd87e1",
   "metadata": {},
   "outputs": [
    {
     "data": {
      "text/plain": [
       "1992"
      ]
     },
     "execution_count": 11,
     "metadata": {},
     "output_type": "execute_result"
    }
   ],
   "source": [
    "#7.3\n",
    "years_list[5]"
   ]
  },
  {
   "cell_type": "code",
   "execution_count": 13,
   "id": "14298d4c-3d00-4c85-8fe1-1c0932ff36ff",
   "metadata": {},
   "outputs": [],
   "source": [
    "#7.4\n",
    "things = [\"mozzarella\", \"cinderella\", \"salmonella\"]"
   ]
  },
  {
   "cell_type": "code",
   "execution_count": 21,
   "id": "93a5713e-7c69-4ea6-ba52-0177aa7f3d6c",
   "metadata": {},
   "outputs": [
    {
     "name": "stdout",
     "output_type": "stream",
     "text": [
      "['mozzarella', 'Cinderella', 'salmonella']\n"
     ]
    }
   ],
   "source": [
    "#7.5\n",
    "things[1] = things[1].capitalize()\n",
    "print(things)"
   ]
  },
  {
   "cell_type": "code",
   "execution_count": 25,
   "id": "537a54f1-dec2-4d4c-94ca-8f9fef784c50",
   "metadata": {},
   "outputs": [
    {
     "name": "stdout",
     "output_type": "stream",
     "text": [
      "['Harry', 'Ron', 'Hermione']\n"
     ]
    }
   ],
   "source": [
    "#9.1\n",
    "def good():\n",
    "    print(['Harry', 'Ron', 'Hermione'])\n",
    "good()"
   ]
  },
  {
   "cell_type": "code",
   "execution_count": 27,
   "id": "dc3e07d7-c9b1-4e1d-ba70-f5d51ce48e20",
   "metadata": {},
   "outputs": [
    {
     "name": "stdout",
     "output_type": "stream",
     "text": [
      "1\n",
      "3\n",
      "5\n",
      "7\n",
      "9\n"
     ]
    }
   ],
   "source": [
    "#9.2\n",
    "def get_odds():\n",
    "    for num in range(10):\n",
    "        if num % 2 != 0:\n",
    "            print(num)\n",
    "get_odds()"
   ]
  },
  {
   "cell_type": "code",
   "execution_count": null,
   "id": "6cc68a9a-c6c4-4b86-8d0f-e397ba7bee03",
   "metadata": {},
   "outputs": [],
   "source": []
  }
 ],
 "metadata": {
  "kernelspec": {
   "display_name": "Python [conda env:base] *",
   "language": "python",
   "name": "conda-base-py"
  },
  "language_info": {
   "codemirror_mode": {
    "name": "ipython",
    "version": 3
   },
   "file_extension": ".py",
   "mimetype": "text/x-python",
   "name": "python",
   "nbconvert_exporter": "python",
   "pygments_lexer": "ipython3",
   "version": "3.12.7"
  }
 },
 "nbformat": 4,
 "nbformat_minor": 5
}
